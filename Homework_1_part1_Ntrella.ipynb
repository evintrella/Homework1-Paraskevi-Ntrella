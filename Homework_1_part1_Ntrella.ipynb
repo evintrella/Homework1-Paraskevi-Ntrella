{
  "nbformat": 4,
  "nbformat_minor": 0,
  "metadata": {
    "colab": {
      "provenance": []
    },
    "kernelspec": {
      "name": "python3",
      "display_name": "Python 3"
    },
    "language_info": {
      "name": "python"
    }
  },
  "cells": [
    {
      "cell_type": "markdown",
      "source": [
        "Άσκηση 1\n",
        "Αλλάξτε το όνομα του notebook βάζοντας το όνομά σας και homework-1-part1-lastname\n",
        "\n",
        "Ακριβώς κάτω από αυτό το κελί προσθέστε νέα κελιά στα οποία θα:\n",
        "\n",
        "Θα φτιάξετε μια λίστα με τους παρακάτω αριθμούς: 23, 91, 0, -11, 4, 23 και 49. Βρείτε τον αριθμό των αντικειμένων της λίστας. Βρείτε το 4ο στοιχείο της λίστας. Βρείτε το άθροισμα του 2ου και του 4ου στοιχείου της λίστας. Βρείτε το 2ο μεγαλύτερο στοιχείο της λίστας. Βρείτε το τελευταίο αντικείμενο της αρχικής λίστας (χωρίς σορτάρισμα). Για κάθε αριθμό να εμφανίσετε έναν αριθμό: αν ο αρχικός αριθμός είναι μεγαλύτερος του 10, πολλαπλασιάστε με το 30. Αν επίσης είναι ζυγός αριθμός, προσθέστε 6. Αν είναι μεγαλύτερος του 50, αφαιρέστε 10. Αν δεν είναι ίσος με -11, αφαιρέστε 1. (Για παράδειγμα το 12 είναι μεγαλύτερο του 10, άρα πολλαπλασιάζουμε 12 * 30 = 360, είναι επίσης ζυγός αριθμός, άρα 360 + 6 = 366, δεν είναι ίσο με -11, άρα 366-1=365.)\n",
        "\n",
        "Βρείτε το σύνολο των αριθμών δια δύο."
      ],
      "metadata": {
        "id": "fuya8gpxSgH8"
      }
    },
    {
      "cell_type": "code",
      "source": [
        "L=[23,91,0,-11,4,23,49]"
      ],
      "metadata": {
        "id": "tzDdROfgSjXR"
      },
      "execution_count": null,
      "outputs": []
    },
    {
      "cell_type": "code",
      "source": [
        "len(L)"
      ],
      "metadata": {
        "colab": {
          "base_uri": "https://localhost:8080/"
        },
        "id": "Vu8SPiKzZxHx",
        "outputId": "eca3e1c8-7dc9-4296-ea48-bb591824a90d"
      },
      "execution_count": null,
      "outputs": [
        {
          "output_type": "execute_result",
          "data": {
            "text/plain": [
              "7"
            ]
          },
          "metadata": {},
          "execution_count": 6
        }
      ]
    },
    {
      "cell_type": "code",
      "source": [
        "L[3]"
      ],
      "metadata": {
        "colab": {
          "base_uri": "https://localhost:8080/"
        },
        "id": "-ifEs_WvZ0fP",
        "outputId": "fd78eca1-873b-4f98-ab54-08dd5101b5c8"
      },
      "execution_count": null,
      "outputs": [
        {
          "output_type": "execute_result",
          "data": {
            "text/plain": [
              "-11"
            ]
          },
          "metadata": {},
          "execution_count": 7
        }
      ]
    },
    {
      "cell_type": "code",
      "source": [
        "L[1] + L[3]"
      ],
      "metadata": {
        "colab": {
          "base_uri": "https://localhost:8080/"
        },
        "id": "HyY_WpFfStZG",
        "outputId": "e62bc829-5aed-4302-deb5-a182d6703320"
      },
      "execution_count": null,
      "outputs": [
        {
          "output_type": "execute_result",
          "data": {
            "text/plain": [
              "80"
            ]
          },
          "metadata": {},
          "execution_count": 11
        }
      ]
    },
    {
      "cell_type": "code",
      "source": [
        "Lsorted=sorted(L)\n",
        "Lsorted"
      ],
      "metadata": {
        "colab": {
          "base_uri": "https://localhost:8080/"
        },
        "id": "93Y12cXJS5R2",
        "outputId": "130a7238-5aa1-4a1d-e627-ccaea1f5873b"
      },
      "execution_count": null,
      "outputs": [
        {
          "output_type": "execute_result",
          "data": {
            "text/plain": [
              "[-11, 0, 4, 23, 23, 49, 91]"
            ]
          },
          "metadata": {},
          "execution_count": 17
        }
      ]
    },
    {
      "cell_type": "code",
      "source": [
        "Lsorted[-2]"
      ],
      "metadata": {
        "colab": {
          "base_uri": "https://localhost:8080/"
        },
        "id": "8etmpz3K65G0",
        "outputId": "6f038319-2804-4e0c-a2df-186d2342c1b6"
      },
      "execution_count": null,
      "outputs": [
        {
          "output_type": "execute_result",
          "data": {
            "text/plain": [
              "49"
            ]
          },
          "metadata": {},
          "execution_count": 18
        }
      ]
    },
    {
      "cell_type": "code",
      "source": [
        "L[-1]"
      ],
      "metadata": {
        "colab": {
          "base_uri": "https://localhost:8080/"
        },
        "id": "6oVTduDYTCfj",
        "outputId": "bdfb7949-1d9b-44a3-b4b0-bb00fcb0a5fb"
      },
      "execution_count": null,
      "outputs": [
        {
          "output_type": "execute_result",
          "data": {
            "text/plain": [
              "49"
            ]
          },
          "metadata": {},
          "execution_count": 13
        }
      ]
    },
    {
      "cell_type": "code",
      "source": [
        "for i in range(0,len(L)):\n",
        "  if (L[i]>10):\n",
        "    L[i]= (L[i]*30)\n",
        "  if ((L[i]%2)==0):\n",
        "    L[i]=L[i]+6\n",
        "  if (L[i]>50):\n",
        "   L[i]=(L[i]-10)\n",
        "  if not (L[i]==-11):\n",
        "    L[i]=(L[i]-1)\n",
        "\n",
        "L\n",
        "\n",
        "     "
      ],
      "metadata": {
        "id": "4qeV-wORUyOd",
        "colab": {
          "base_uri": "https://localhost:8080/"
        },
        "outputId": "a757e9c5-b621-434e-f46d-aad4a8f4e861"
      },
      "execution_count": null,
      "outputs": [
        {
          "output_type": "execute_result",
          "data": {
            "text/plain": [
              "[685, 2725, 5, -11, 9, 685, 1465]"
            ]
          },
          "metadata": {},
          "execution_count": 19
        }
      ]
    },
    {
      "cell_type": "code",
      "source": [
        "sum(L)/2"
      ],
      "metadata": {
        "colab": {
          "base_uri": "https://localhost:8080/"
        },
        "id": "wCH6HIor6O3r",
        "outputId": "e7e148ee-d001-4607-baff-5e7172b670de"
      },
      "execution_count": null,
      "outputs": [
        {
          "output_type": "execute_result",
          "data": {
            "text/plain": [
              "2781.5"
            ]
          },
          "metadata": {},
          "execution_count": 20
        }
      ]
    }
  ]
}